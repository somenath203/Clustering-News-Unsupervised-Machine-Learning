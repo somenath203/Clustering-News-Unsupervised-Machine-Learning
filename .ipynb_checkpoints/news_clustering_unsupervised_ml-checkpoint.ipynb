{
 "cells": [
  {
   "cell_type": "markdown",
   "metadata": {},
   "source": [
    "## Importing all the necessary Dependencies"
   ]
  },
  {
   "cell_type": "code",
   "execution_count": 1,
   "metadata": {
    "id": "AadPNXaono4u"
   },
   "outputs": [],
   "source": [
    "import numpy as np\n",
    "import pandas as pd\n",
    "import seaborn as sns\n",
    "import matplotlib.pyplot as plt\n",
    "%matplotlib inline\n",
    "import nltk\n",
    "from nltk.corpus import stopwords\n",
    "from nltk.stem.porter import PorterStemmer\n",
    "import string\n",
    "from sklearn.feature_extraction.text import TfidfVectorizer\n",
    "from sklearn.decomposition import PCA\n",
    "from sklearn.cluster import KMeans\n",
    "from sklearn_extra.cluster import KMedoids\n",
    "import scipy.cluster.hierarchy as shc\n",
    "from sklearn.cluster import AgglomerativeClustering\n",
    "from sklearn.metrics import silhouette_score\n",
    "import pickle"
   ]
  },
  {
   "cell_type": "markdown",
   "metadata": {},
   "source": [
    "## Reading the dataset"
   ]
  },
  {
   "cell_type": "code",
   "execution_count": 2,
   "metadata": {
    "id": "71cRYfP1oTKI"
   },
   "outputs": [],
   "source": [
    "news_data = pd.read_table('./news_data.tsv', delimiter='\\t')"
   ]
  },
  {
   "cell_type": "code",
   "execution_count": 3,
   "metadata": {
    "colab": {
     "base_uri": "https://localhost:8080/",
     "height": 684
    },
    "id": "25YTR2Dzob12",
    "outputId": "bfd484b4-9329-4cbd-c5c5-7300ee666e94"
   },
   "outputs": [
    {
     "data": {
      "text/html": [
       "<div>\n",
       "<style scoped>\n",
       "    .dataframe tbody tr th:only-of-type {\n",
       "        vertical-align: middle;\n",
       "    }\n",
       "\n",
       "    .dataframe tbody tr th {\n",
       "        vertical-align: top;\n",
       "    }\n",
       "\n",
       "    .dataframe thead th {\n",
       "        text-align: right;\n",
       "    }\n",
       "</style>\n",
       "<table border=\"1\" class=\"dataframe\">\n",
       "  <thead>\n",
       "    <tr style=\"text-align: right;\">\n",
       "      <th></th>\n",
       "      <th>2635.json</th>\n",
       "      <th>false</th>\n",
       "      <th>Says the Annies List political group supports third-trimester abortions on demand.</th>\n",
       "      <th>abortion</th>\n",
       "      <th>dwayne-bohac</th>\n",
       "      <th>State representative</th>\n",
       "      <th>Texas</th>\n",
       "      <th>republican</th>\n",
       "      <th>0</th>\n",
       "      <th>1</th>\n",
       "      <th>0.1</th>\n",
       "      <th>0.2</th>\n",
       "      <th>0.3</th>\n",
       "      <th>a mailer</th>\n",
       "    </tr>\n",
       "  </thead>\n",
       "  <tbody>\n",
       "    <tr>\n",
       "      <th>0</th>\n",
       "      <td>10540.json</td>\n",
       "      <td>half-true</td>\n",
       "      <td>When did the decline of coal start? It started...</td>\n",
       "      <td>energy,history,job-accomplishments</td>\n",
       "      <td>scott-surovell</td>\n",
       "      <td>State delegate</td>\n",
       "      <td>Virginia</td>\n",
       "      <td>democrat</td>\n",
       "      <td>0.0</td>\n",
       "      <td>0.0</td>\n",
       "      <td>1.0</td>\n",
       "      <td>1.0</td>\n",
       "      <td>0.0</td>\n",
       "      <td>a floor speech.</td>\n",
       "    </tr>\n",
       "    <tr>\n",
       "      <th>1</th>\n",
       "      <td>324.json</td>\n",
       "      <td>mostly-true</td>\n",
       "      <td>Hillary Clinton agrees with John McCain \"by vo...</td>\n",
       "      <td>foreign-policy</td>\n",
       "      <td>barack-obama</td>\n",
       "      <td>President</td>\n",
       "      <td>Illinois</td>\n",
       "      <td>democrat</td>\n",
       "      <td>70.0</td>\n",
       "      <td>71.0</td>\n",
       "      <td>160.0</td>\n",
       "      <td>163.0</td>\n",
       "      <td>9.0</td>\n",
       "      <td>Denver</td>\n",
       "    </tr>\n",
       "    <tr>\n",
       "      <th>2</th>\n",
       "      <td>1123.json</td>\n",
       "      <td>false</td>\n",
       "      <td>Health care reform legislation is likely to ma...</td>\n",
       "      <td>health-care</td>\n",
       "      <td>blog-posting</td>\n",
       "      <td>NaN</td>\n",
       "      <td>NaN</td>\n",
       "      <td>none</td>\n",
       "      <td>7.0</td>\n",
       "      <td>19.0</td>\n",
       "      <td>3.0</td>\n",
       "      <td>5.0</td>\n",
       "      <td>44.0</td>\n",
       "      <td>a news release</td>\n",
       "    </tr>\n",
       "    <tr>\n",
       "      <th>3</th>\n",
       "      <td>9028.json</td>\n",
       "      <td>half-true</td>\n",
       "      <td>The economic turnaround started at the end of ...</td>\n",
       "      <td>economy,jobs</td>\n",
       "      <td>charlie-crist</td>\n",
       "      <td>NaN</td>\n",
       "      <td>Florida</td>\n",
       "      <td>democrat</td>\n",
       "      <td>15.0</td>\n",
       "      <td>9.0</td>\n",
       "      <td>20.0</td>\n",
       "      <td>19.0</td>\n",
       "      <td>2.0</td>\n",
       "      <td>an interview on CNN</td>\n",
       "    </tr>\n",
       "    <tr>\n",
       "      <th>4</th>\n",
       "      <td>12465.json</td>\n",
       "      <td>true</td>\n",
       "      <td>The Chicago Bears have had more starting quart...</td>\n",
       "      <td>education</td>\n",
       "      <td>robin-vos</td>\n",
       "      <td>Wisconsin Assembly speaker</td>\n",
       "      <td>Wisconsin</td>\n",
       "      <td>republican</td>\n",
       "      <td>0.0</td>\n",
       "      <td>3.0</td>\n",
       "      <td>2.0</td>\n",
       "      <td>5.0</td>\n",
       "      <td>1.0</td>\n",
       "      <td>a an online opinion-piece</td>\n",
       "    </tr>\n",
       "    <tr>\n",
       "      <th>...</th>\n",
       "      <td>...</td>\n",
       "      <td>...</td>\n",
       "      <td>...</td>\n",
       "      <td>...</td>\n",
       "      <td>...</td>\n",
       "      <td>...</td>\n",
       "      <td>...</td>\n",
       "      <td>...</td>\n",
       "      <td>...</td>\n",
       "      <td>...</td>\n",
       "      <td>...</td>\n",
       "      <td>...</td>\n",
       "      <td>...</td>\n",
       "      <td>...</td>\n",
       "    </tr>\n",
       "    <tr>\n",
       "      <th>10234</th>\n",
       "      <td>5473.json</td>\n",
       "      <td>mostly-true</td>\n",
       "      <td>There are a larger number of shark attacks in ...</td>\n",
       "      <td>animals,elections</td>\n",
       "      <td>aclu-florida</td>\n",
       "      <td>NaN</td>\n",
       "      <td>Florida</td>\n",
       "      <td>none</td>\n",
       "      <td>0.0</td>\n",
       "      <td>1.0</td>\n",
       "      <td>1.0</td>\n",
       "      <td>1.0</td>\n",
       "      <td>0.0</td>\n",
       "      <td>interview on \"The Colbert Report\"</td>\n",
       "    </tr>\n",
       "    <tr>\n",
       "      <th>10235</th>\n",
       "      <td>3408.json</td>\n",
       "      <td>mostly-true</td>\n",
       "      <td>Democrats have now become the party of the [At...</td>\n",
       "      <td>elections</td>\n",
       "      <td>alan-powell</td>\n",
       "      <td>NaN</td>\n",
       "      <td>Georgia</td>\n",
       "      <td>republican</td>\n",
       "      <td>0.0</td>\n",
       "      <td>0.0</td>\n",
       "      <td>0.0</td>\n",
       "      <td>1.0</td>\n",
       "      <td>0.0</td>\n",
       "      <td>an interview</td>\n",
       "    </tr>\n",
       "    <tr>\n",
       "      <th>10236</th>\n",
       "      <td>3959.json</td>\n",
       "      <td>half-true</td>\n",
       "      <td>Says an alternative to Social Security that op...</td>\n",
       "      <td>retirement,social-security</td>\n",
       "      <td>herman-cain</td>\n",
       "      <td>NaN</td>\n",
       "      <td>Georgia</td>\n",
       "      <td>republican</td>\n",
       "      <td>4.0</td>\n",
       "      <td>11.0</td>\n",
       "      <td>5.0</td>\n",
       "      <td>3.0</td>\n",
       "      <td>3.0</td>\n",
       "      <td>a Republican presidential debate</td>\n",
       "    </tr>\n",
       "    <tr>\n",
       "      <th>10237</th>\n",
       "      <td>2253.json</td>\n",
       "      <td>false</td>\n",
       "      <td>On lifting the U.S. Cuban embargo and allowing...</td>\n",
       "      <td>florida,foreign-policy</td>\n",
       "      <td>jeff-greene</td>\n",
       "      <td>NaN</td>\n",
       "      <td>Florida</td>\n",
       "      <td>democrat</td>\n",
       "      <td>3.0</td>\n",
       "      <td>1.0</td>\n",
       "      <td>3.0</td>\n",
       "      <td>0.0</td>\n",
       "      <td>0.0</td>\n",
       "      <td>a televised debate on Miami's WPLG-10 against ...</td>\n",
       "    </tr>\n",
       "    <tr>\n",
       "      <th>10238</th>\n",
       "      <td>1155.json</td>\n",
       "      <td>pants-fire</td>\n",
       "      <td>The Department of Veterans Affairs has a manua...</td>\n",
       "      <td>health-care,veterans</td>\n",
       "      <td>michael-steele</td>\n",
       "      <td>chairman of the Republican National Committee</td>\n",
       "      <td>Maryland</td>\n",
       "      <td>republican</td>\n",
       "      <td>0.0</td>\n",
       "      <td>1.0</td>\n",
       "      <td>1.0</td>\n",
       "      <td>0.0</td>\n",
       "      <td>2.0</td>\n",
       "      <td>a Fox News interview</td>\n",
       "    </tr>\n",
       "  </tbody>\n",
       "</table>\n",
       "<p>10239 rows × 14 columns</p>\n",
       "</div>"
      ],
      "text/plain": [
       "        2635.json        false  \\\n",
       "0      10540.json    half-true   \n",
       "1        324.json  mostly-true   \n",
       "2       1123.json        false   \n",
       "3       9028.json    half-true   \n",
       "4      12465.json         true   \n",
       "...           ...          ...   \n",
       "10234   5473.json  mostly-true   \n",
       "10235   3408.json  mostly-true   \n",
       "10236   3959.json    half-true   \n",
       "10237   2253.json        false   \n",
       "10238   1155.json   pants-fire   \n",
       "\n",
       "      Says the Annies List political group supports third-trimester abortions on demand.  \\\n",
       "0      When did the decline of coal start? It started...                                   \n",
       "1      Hillary Clinton agrees with John McCain \"by vo...                                   \n",
       "2      Health care reform legislation is likely to ma...                                   \n",
       "3      The economic turnaround started at the end of ...                                   \n",
       "4      The Chicago Bears have had more starting quart...                                   \n",
       "...                                                  ...                                   \n",
       "10234  There are a larger number of shark attacks in ...                                   \n",
       "10235  Democrats have now become the party of the [At...                                   \n",
       "10236  Says an alternative to Social Security that op...                                   \n",
       "10237  On lifting the U.S. Cuban embargo and allowing...                                   \n",
       "10238  The Department of Veterans Affairs has a manua...                                   \n",
       "\n",
       "                                 abortion    dwayne-bohac  \\\n",
       "0      energy,history,job-accomplishments  scott-surovell   \n",
       "1                          foreign-policy    barack-obama   \n",
       "2                             health-care    blog-posting   \n",
       "3                            economy,jobs   charlie-crist   \n",
       "4                               education       robin-vos   \n",
       "...                                   ...             ...   \n",
       "10234                   animals,elections    aclu-florida   \n",
       "10235                           elections     alan-powell   \n",
       "10236          retirement,social-security     herman-cain   \n",
       "10237              florida,foreign-policy     jeff-greene   \n",
       "10238                health-care,veterans  michael-steele   \n",
       "\n",
       "                                State representative      Texas  republican  \\\n",
       "0                                     State delegate   Virginia    democrat   \n",
       "1                                          President   Illinois    democrat   \n",
       "2                                                NaN        NaN        none   \n",
       "3                                                NaN    Florida    democrat   \n",
       "4                         Wisconsin Assembly speaker  Wisconsin  republican   \n",
       "...                                              ...        ...         ...   \n",
       "10234                                            NaN    Florida        none   \n",
       "10235                                            NaN    Georgia  republican   \n",
       "10236                                            NaN    Georgia  republican   \n",
       "10237                                            NaN    Florida    democrat   \n",
       "10238  chairman of the Republican National Committee   Maryland  republican   \n",
       "\n",
       "          0     1    0.1    0.2   0.3  \\\n",
       "0       0.0   0.0    1.0    1.0   0.0   \n",
       "1      70.0  71.0  160.0  163.0   9.0   \n",
       "2       7.0  19.0    3.0    5.0  44.0   \n",
       "3      15.0   9.0   20.0   19.0   2.0   \n",
       "4       0.0   3.0    2.0    5.0   1.0   \n",
       "...     ...   ...    ...    ...   ...   \n",
       "10234   0.0   1.0    1.0    1.0   0.0   \n",
       "10235   0.0   0.0    0.0    1.0   0.0   \n",
       "10236   4.0  11.0    5.0    3.0   3.0   \n",
       "10237   3.0   1.0    3.0    0.0   0.0   \n",
       "10238   0.0   1.0    1.0    0.0   2.0   \n",
       "\n",
       "                                                a mailer  \n",
       "0                                        a floor speech.  \n",
       "1                                                 Denver  \n",
       "2                                         a news release  \n",
       "3                                    an interview on CNN  \n",
       "4                              a an online opinion-piece  \n",
       "...                                                  ...  \n",
       "10234                  interview on \"The Colbert Report\"  \n",
       "10235                                       an interview  \n",
       "10236                   a Republican presidential debate  \n",
       "10237  a televised debate on Miami's WPLG-10 against ...  \n",
       "10238                               a Fox News interview  \n",
       "\n",
       "[10239 rows x 14 columns]"
      ]
     },
     "execution_count": 3,
     "metadata": {},
     "output_type": "execute_result"
    }
   ],
   "source": [
    "news_data"
   ]
  },
  {
   "cell_type": "markdown",
   "metadata": {},
   "source": [
    "## Dropping all the un-necessary columns"
   ]
  },
  {
   "cell_type": "code",
   "execution_count": 4,
   "metadata": {
    "id": "UwuFAO8Yp1mq"
   },
   "outputs": [],
   "source": [
    "news_data.drop(columns=['2635.json', 'abortion', 'dwayne-bohac', 'State representative', 'Texas', 'republican', '0', '1', '0.1', '0.2', '0.3', 'a mailer'], inplace=True)"
   ]
  },
  {
   "cell_type": "code",
   "execution_count": 5,
   "metadata": {
    "colab": {
     "base_uri": "https://localhost:8080/",
     "height": 206
    },
    "id": "MhavkeJFqm-S",
    "outputId": "b6cbf807-1f3e-49cd-9d01-21844328b46f"
   },
   "outputs": [
    {
     "data": {
      "text/html": [
       "<div>\n",
       "<style scoped>\n",
       "    .dataframe tbody tr th:only-of-type {\n",
       "        vertical-align: middle;\n",
       "    }\n",
       "\n",
       "    .dataframe tbody tr th {\n",
       "        vertical-align: top;\n",
       "    }\n",
       "\n",
       "    .dataframe thead th {\n",
       "        text-align: right;\n",
       "    }\n",
       "</style>\n",
       "<table border=\"1\" class=\"dataframe\">\n",
       "  <thead>\n",
       "    <tr style=\"text-align: right;\">\n",
       "      <th></th>\n",
       "      <th>false</th>\n",
       "      <th>Says the Annies List political group supports third-trimester abortions on demand.</th>\n",
       "    </tr>\n",
       "  </thead>\n",
       "  <tbody>\n",
       "    <tr>\n",
       "      <th>0</th>\n",
       "      <td>half-true</td>\n",
       "      <td>When did the decline of coal start? It started...</td>\n",
       "    </tr>\n",
       "    <tr>\n",
       "      <th>1</th>\n",
       "      <td>mostly-true</td>\n",
       "      <td>Hillary Clinton agrees with John McCain \"by vo...</td>\n",
       "    </tr>\n",
       "    <tr>\n",
       "      <th>2</th>\n",
       "      <td>false</td>\n",
       "      <td>Health care reform legislation is likely to ma...</td>\n",
       "    </tr>\n",
       "    <tr>\n",
       "      <th>3</th>\n",
       "      <td>half-true</td>\n",
       "      <td>The economic turnaround started at the end of ...</td>\n",
       "    </tr>\n",
       "    <tr>\n",
       "      <th>4</th>\n",
       "      <td>true</td>\n",
       "      <td>The Chicago Bears have had more starting quart...</td>\n",
       "    </tr>\n",
       "  </tbody>\n",
       "</table>\n",
       "</div>"
      ],
      "text/plain": [
       "         false  \\\n",
       "0    half-true   \n",
       "1  mostly-true   \n",
       "2        false   \n",
       "3    half-true   \n",
       "4         true   \n",
       "\n",
       "  Says the Annies List political group supports third-trimester abortions on demand.  \n",
       "0  When did the decline of coal start? It started...                                  \n",
       "1  Hillary Clinton agrees with John McCain \"by vo...                                  \n",
       "2  Health care reform legislation is likely to ma...                                  \n",
       "3  The economic turnaround started at the end of ...                                  \n",
       "4  The Chicago Bears have had more starting quart...                                  "
      ]
     },
     "execution_count": 5,
     "metadata": {},
     "output_type": "execute_result"
    }
   ],
   "source": [
    "news_data.head()"
   ]
  },
  {
   "cell_type": "code",
   "execution_count": 6,
   "metadata": {
    "id": "tdIg_uj5rcwY"
   },
   "outputs": [],
   "source": [
    "news_data.columns = ['label', 'news_text']"
   ]
  },
  {
   "cell_type": "code",
   "execution_count": 7,
   "metadata": {
    "colab": {
     "base_uri": "https://localhost:8080/",
     "height": 206
    },
    "id": "dX6hQfIFstYd",
    "outputId": "4f06a78e-ea8c-49ac-8154-b72c829337ed"
   },
   "outputs": [
    {
     "data": {
      "text/html": [
       "<div>\n",
       "<style scoped>\n",
       "    .dataframe tbody tr th:only-of-type {\n",
       "        vertical-align: middle;\n",
       "    }\n",
       "\n",
       "    .dataframe tbody tr th {\n",
       "        vertical-align: top;\n",
       "    }\n",
       "\n",
       "    .dataframe thead th {\n",
       "        text-align: right;\n",
       "    }\n",
       "</style>\n",
       "<table border=\"1\" class=\"dataframe\">\n",
       "  <thead>\n",
       "    <tr style=\"text-align: right;\">\n",
       "      <th></th>\n",
       "      <th>label</th>\n",
       "      <th>news_text</th>\n",
       "    </tr>\n",
       "  </thead>\n",
       "  <tbody>\n",
       "    <tr>\n",
       "      <th>0</th>\n",
       "      <td>half-true</td>\n",
       "      <td>When did the decline of coal start? It started...</td>\n",
       "    </tr>\n",
       "    <tr>\n",
       "      <th>1</th>\n",
       "      <td>mostly-true</td>\n",
       "      <td>Hillary Clinton agrees with John McCain \"by vo...</td>\n",
       "    </tr>\n",
       "    <tr>\n",
       "      <th>2</th>\n",
       "      <td>false</td>\n",
       "      <td>Health care reform legislation is likely to ma...</td>\n",
       "    </tr>\n",
       "    <tr>\n",
       "      <th>3</th>\n",
       "      <td>half-true</td>\n",
       "      <td>The economic turnaround started at the end of ...</td>\n",
       "    </tr>\n",
       "    <tr>\n",
       "      <th>4</th>\n",
       "      <td>true</td>\n",
       "      <td>The Chicago Bears have had more starting quart...</td>\n",
       "    </tr>\n",
       "  </tbody>\n",
       "</table>\n",
       "</div>"
      ],
      "text/plain": [
       "         label                                          news_text\n",
       "0    half-true  When did the decline of coal start? It started...\n",
       "1  mostly-true  Hillary Clinton agrees with John McCain \"by vo...\n",
       "2        false  Health care reform legislation is likely to ma...\n",
       "3    half-true  The economic turnaround started at the end of ...\n",
       "4         true  The Chicago Bears have had more starting quart..."
      ]
     },
     "execution_count": 7,
     "metadata": {},
     "output_type": "execute_result"
    }
   ],
   "source": [
    "news_data.head()"
   ]
  },
  {
   "cell_type": "code",
   "execution_count": 8,
   "metadata": {
    "colab": {
     "base_uri": "https://localhost:8080/"
    },
    "id": "z6LcILs-uunN",
    "outputId": "61a752af-6415-4621-f7da-09f9fd849576"
   },
   "outputs": [
    {
     "data": {
      "text/plain": [
       "(10239, 2)"
      ]
     },
     "execution_count": 8,
     "metadata": {},
     "output_type": "execute_result"
    }
   ],
   "source": [
    "news_data.shape"
   ]
  },
  {
   "cell_type": "markdown",
   "metadata": {},
   "source": [
    "## Checking for null values in the dataset"
   ]
  },
  {
   "cell_type": "code",
   "execution_count": 9,
   "metadata": {
    "colab": {
     "base_uri": "https://localhost:8080/"
    },
    "id": "nPxD4ni6u0Qc",
    "outputId": "22c16607-c15c-4157-cbb6-68ced2b4f1c9"
   },
   "outputs": [
    {
     "data": {
      "text/plain": [
       "label        0\n",
       "news_text    0\n",
       "dtype: int64"
      ]
     },
     "execution_count": 9,
     "metadata": {},
     "output_type": "execute_result"
    }
   ],
   "source": [
    "news_data.isnull().sum()"
   ]
  },
  {
   "cell_type": "markdown",
   "metadata": {},
   "source": [
    "## Dropping all the null values in the dataset"
   ]
  },
  {
   "cell_type": "code",
   "execution_count": 10,
   "metadata": {
    "id": "LQ60_n81u4dC"
   },
   "outputs": [],
   "source": [
    "news_data.dropna(inplace=True)"
   ]
  },
  {
   "cell_type": "code",
   "execution_count": 11,
   "metadata": {
    "colab": {
     "base_uri": "https://localhost:8080/"
    },
    "id": "Uqdc0DehvApj",
    "outputId": "ef4571aa-219a-41c2-9fd2-d36614e85b59"
   },
   "outputs": [
    {
     "data": {
      "text/plain": [
       "label        0\n",
       "news_text    0\n",
       "dtype: int64"
      ]
     },
     "execution_count": 11,
     "metadata": {},
     "output_type": "execute_result"
    }
   ],
   "source": [
    "news_data.isnull().sum()"
   ]
  },
  {
   "cell_type": "markdown",
   "metadata": {},
   "source": [
    "## Counting the total number of labels present in the dataset"
   ]
  },
  {
   "cell_type": "code",
   "execution_count": 12,
   "metadata": {
    "id": "FgkcFFQMsvcb"
   },
   "outputs": [],
   "source": [
    "each_label_count = news_data['label'].value_counts()"
   ]
  },
  {
   "cell_type": "code",
   "execution_count": 13,
   "metadata": {
    "colab": {
     "base_uri": "https://localhost:8080/"
    },
    "id": "1nt4_ShMuRNq",
    "outputId": "8273af7b-6075-48ed-b62a-a961561c4cde"
   },
   "outputs": [
    {
     "data": {
      "text/plain": [
       "half-true      2114\n",
       "false          1994\n",
       "mostly-true    1962\n",
       "true           1676\n",
       "barely-true    1654\n",
       "pants-fire      839\n",
       "Name: label, dtype: int64"
      ]
     },
     "execution_count": 13,
     "metadata": {},
     "output_type": "execute_result"
    }
   ],
   "source": [
    "each_label_count"
   ]
  },
  {
   "cell_type": "markdown",
   "metadata": {},
   "source": [
    "## Creating a balanced dataset of 204 datapoints in total"
   ]
  },
  {
   "cell_type": "code",
   "execution_count": 14,
   "metadata": {},
   "outputs": [],
   "source": [
    "news_data_half_true_only = news_data[news_data['label'] == 'half-true']\n",
    "news_data_false_only = news_data[news_data['label'] == 'false']\n",
    "news_data_mostly_true_only = news_data[news_data['label'] == 'mostly-true']\n",
    "news_data_true_only = news_data[news_data['label'] == 'true']\n",
    "news_data_barely_true_only = news_data[news_data['label'] == 'barely-true']\n",
    "news_data_pants_fire_only = news_data[news_data['label'] == 'pants-fire']"
   ]
  },
  {
   "cell_type": "code",
   "execution_count": 15,
   "metadata": {},
   "outputs": [],
   "source": [
    "news_data_half_true_only_sample = news_data_half_true_only[0:34]\n",
    "news_data_false_only_sample = news_data_false_only[0:34]\n",
    "news_data_mostly_true_only_sample = news_data_mostly_true_only[0:34]\n",
    "news_data_true_only_sample = news_data_true_only[0:34]\n",
    "news_data_barely_true_only_sample = news_data_barely_true_only[0:34]\n",
    "news_data_pants_fire_only_sample = news_data_pants_fire_only[0:34]"
   ]
  },
  {
   "cell_type": "code",
   "execution_count": 16,
   "metadata": {},
   "outputs": [],
   "source": [
    "new_news_dataset = pd.concat([news_data_half_true_only_sample, news_data_false_only_sample, news_data_mostly_true_only_sample, news_data_true_only_sample, news_data_barely_true_only_sample, news_data_pants_fire_only_sample], axis=0)"
   ]
  },
  {
   "cell_type": "code",
   "execution_count": 17,
   "metadata": {},
   "outputs": [
    {
     "data": {
      "text/html": [
       "<div>\n",
       "<style scoped>\n",
       "    .dataframe tbody tr th:only-of-type {\n",
       "        vertical-align: middle;\n",
       "    }\n",
       "\n",
       "    .dataframe tbody tr th {\n",
       "        vertical-align: top;\n",
       "    }\n",
       "\n",
       "    .dataframe thead th {\n",
       "        text-align: right;\n",
       "    }\n",
       "</style>\n",
       "<table border=\"1\" class=\"dataframe\">\n",
       "  <thead>\n",
       "    <tr style=\"text-align: right;\">\n",
       "      <th></th>\n",
       "      <th>label</th>\n",
       "      <th>news_text</th>\n",
       "    </tr>\n",
       "  </thead>\n",
       "  <tbody>\n",
       "    <tr>\n",
       "      <th>0</th>\n",
       "      <td>half-true</td>\n",
       "      <td>When did the decline of coal start? It started...</td>\n",
       "    </tr>\n",
       "    <tr>\n",
       "      <th>3</th>\n",
       "      <td>half-true</td>\n",
       "      <td>The economic turnaround started at the end of ...</td>\n",
       "    </tr>\n",
       "    <tr>\n",
       "      <th>6</th>\n",
       "      <td>half-true</td>\n",
       "      <td>I'm the only person on this stage who has work...</td>\n",
       "    </tr>\n",
       "    <tr>\n",
       "      <th>7</th>\n",
       "      <td>half-true</td>\n",
       "      <td>However, it took $19.5 million in Oregon Lotte...</td>\n",
       "    </tr>\n",
       "    <tr>\n",
       "      <th>10</th>\n",
       "      <td>half-true</td>\n",
       "      <td>Since 2000, nearly 12 million Americans have s...</td>\n",
       "    </tr>\n",
       "  </tbody>\n",
       "</table>\n",
       "</div>"
      ],
      "text/plain": [
       "        label                                          news_text\n",
       "0   half-true  When did the decline of coal start? It started...\n",
       "3   half-true  The economic turnaround started at the end of ...\n",
       "6   half-true  I'm the only person on this stage who has work...\n",
       "7   half-true  However, it took $19.5 million in Oregon Lotte...\n",
       "10  half-true  Since 2000, nearly 12 million Americans have s..."
      ]
     },
     "execution_count": 17,
     "metadata": {},
     "output_type": "execute_result"
    }
   ],
   "source": [
    "new_news_dataset.head()"
   ]
  },
  {
   "cell_type": "code",
   "execution_count": 18,
   "metadata": {},
   "outputs": [
    {
     "data": {
      "text/plain": [
       "(204, 2)"
      ]
     },
     "execution_count": 18,
     "metadata": {},
     "output_type": "execute_result"
    }
   ],
   "source": [
    "new_news_dataset.shape"
   ]
  },
  {
   "cell_type": "markdown",
   "metadata": {},
   "source": [
    "## Preprocessing all the news texts"
   ]
  },
  {
   "cell_type": "code",
   "execution_count": 19,
   "metadata": {
    "colab": {
     "base_uri": "https://localhost:8080/"
    },
    "id": "ewfULazm5SGC",
    "outputId": "96bbcecc-f4f6-45ca-9518-06dd8c07e85f"
   },
   "outputs": [
    {
     "name": "stderr",
     "output_type": "stream",
     "text": [
      "[nltk_data] Downloading package stopwords to\n",
      "[nltk_data]     C:\\Users\\Somenath\\AppData\\Roaming\\nltk_data...\n",
      "[nltk_data]   Package stopwords is already up-to-date!\n"
     ]
    },
    {
     "data": {
      "text/plain": [
       "True"
      ]
     },
     "execution_count": 19,
     "metadata": {},
     "output_type": "execute_result"
    }
   ],
   "source": [
    "nltk.download('stopwords')"
   ]
  },
  {
   "cell_type": "code",
   "execution_count": 20,
   "metadata": {
    "colab": {
     "base_uri": "https://localhost:8080/"
    },
    "id": "rKX2tUh75eJt",
    "outputId": "34dff77d-ee16-4171-823b-03e3dba4c64d"
   },
   "outputs": [
    {
     "name": "stderr",
     "output_type": "stream",
     "text": [
      "[nltk_data] Downloading package punkt to\n",
      "[nltk_data]     C:\\Users\\Somenath\\AppData\\Roaming\\nltk_data...\n",
      "[nltk_data]   Package punkt is already up-to-date!\n"
     ]
    },
    {
     "data": {
      "text/plain": [
       "True"
      ]
     },
     "execution_count": 20,
     "metadata": {},
     "output_type": "execute_result"
    }
   ],
   "source": [
    "nltk.download('punkt')"
   ]
  },
  {
   "cell_type": "code",
   "execution_count": 21,
   "metadata": {
    "id": "LZJRZ_OD5giS"
   },
   "outputs": [],
   "source": [
    "ps = PorterStemmer()"
   ]
  },
  {
   "cell_type": "code",
   "execution_count": 22,
   "metadata": {
    "id": "LM5ZatSm5k2X"
   },
   "outputs": [],
   "source": [
    "def preprocess_text(text):\n",
    "\n",
    "  text = text.lower()\n",
    "\n",
    "  text = nltk.word_tokenize(text)\n",
    "\n",
    "  word_arr = []\n",
    "\n",
    "  for i in text:\n",
    "    if i.isalnum():\n",
    "      word_arr.append(i)\n",
    "\n",
    "  text = word_arr[:]\n",
    "\n",
    "  word_arr.clear()\n",
    "\n",
    "  for i in text:\n",
    "    if i not in stopwords.words('english') and i not in string.punctuation:\n",
    "      word_arr.append(i)\n",
    "\n",
    "  text = word_arr[:]\n",
    "\n",
    "  word_arr.clear()\n",
    "\n",
    "  for i in text:\n",
    "    word_arr.append(ps.stem(i))\n",
    "\n",
    "  return \" \".join(word_arr)"
   ]
  },
  {
   "cell_type": "markdown",
   "metadata": {},
   "source": [
    "## Creating a new column in the dataset and inserting all the pre-proccessed texts inside it"
   ]
  },
  {
   "cell_type": "code",
   "execution_count": 23,
   "metadata": {
    "id": "5UTwlv3p58Qh"
   },
   "outputs": [],
   "source": [
    "new_news_dataset['preprocessed_news_text'] = new_news_dataset['news_text'].apply(preprocess_text)"
   ]
  },
  {
   "cell_type": "code",
   "execution_count": 24,
   "metadata": {
    "colab": {
     "base_uri": "https://localhost:8080/",
     "height": 206
    },
    "id": "RFtihLpR6RxD",
    "outputId": "698e6a11-52a8-4c75-8367-c71ee5b15fb7"
   },
   "outputs": [
    {
     "data": {
      "text/html": [
       "<div>\n",
       "<style scoped>\n",
       "    .dataframe tbody tr th:only-of-type {\n",
       "        vertical-align: middle;\n",
       "    }\n",
       "\n",
       "    .dataframe tbody tr th {\n",
       "        vertical-align: top;\n",
       "    }\n",
       "\n",
       "    .dataframe thead th {\n",
       "        text-align: right;\n",
       "    }\n",
       "</style>\n",
       "<table border=\"1\" class=\"dataframe\">\n",
       "  <thead>\n",
       "    <tr style=\"text-align: right;\">\n",
       "      <th></th>\n",
       "      <th>label</th>\n",
       "      <th>news_text</th>\n",
       "      <th>preprocessed_news_text</th>\n",
       "    </tr>\n",
       "  </thead>\n",
       "  <tbody>\n",
       "    <tr>\n",
       "      <th>0</th>\n",
       "      <td>half-true</td>\n",
       "      <td>When did the decline of coal start? It started...</td>\n",
       "      <td>declin coal start start natur ga took start be...</td>\n",
       "    </tr>\n",
       "    <tr>\n",
       "      <th>3</th>\n",
       "      <td>half-true</td>\n",
       "      <td>The economic turnaround started at the end of ...</td>\n",
       "      <td>econom turnaround start end term</td>\n",
       "    </tr>\n",
       "    <tr>\n",
       "      <th>6</th>\n",
       "      <td>half-true</td>\n",
       "      <td>I'm the only person on this stage who has work...</td>\n",
       "      <td>person stage work activ last year pass along r...</td>\n",
       "    </tr>\n",
       "    <tr>\n",
       "      <th>7</th>\n",
       "      <td>half-true</td>\n",
       "      <td>However, it took $19.5 million in Oregon Lotte...</td>\n",
       "      <td>howev took million oregon lotteri fund port ne...</td>\n",
       "    </tr>\n",
       "    <tr>\n",
       "      <th>10</th>\n",
       "      <td>half-true</td>\n",
       "      <td>Since 2000, nearly 12 million Americans have s...</td>\n",
       "      <td>sinc 2000 nearli 12 million american slip midd...</td>\n",
       "    </tr>\n",
       "  </tbody>\n",
       "</table>\n",
       "</div>"
      ],
      "text/plain": [
       "        label                                          news_text  \\\n",
       "0   half-true  When did the decline of coal start? It started...   \n",
       "3   half-true  The economic turnaround started at the end of ...   \n",
       "6   half-true  I'm the only person on this stage who has work...   \n",
       "7   half-true  However, it took $19.5 million in Oregon Lotte...   \n",
       "10  half-true  Since 2000, nearly 12 million Americans have s...   \n",
       "\n",
       "                               preprocessed_news_text  \n",
       "0   declin coal start start natur ga took start be...  \n",
       "3                    econom turnaround start end term  \n",
       "6   person stage work activ last year pass along r...  \n",
       "7   howev took million oregon lotteri fund port ne...  \n",
       "10  sinc 2000 nearli 12 million american slip midd...  "
      ]
     },
     "execution_count": 24,
     "metadata": {},
     "output_type": "execute_result"
    }
   ],
   "source": [
    "new_news_dataset.head()"
   ]
  },
  {
   "cell_type": "markdown",
   "metadata": {},
   "source": [
    "## Dropping the plain un-proccessed 'news_text' and the 'label' column"
   ]
  },
  {
   "cell_type": "code",
   "execution_count": 25,
   "metadata": {
    "id": "8UGQqywr6cSW"
   },
   "outputs": [],
   "source": [
    "new_news_dataset.drop(columns=['news_text', 'label'], inplace=True)"
   ]
  },
  {
   "cell_type": "code",
   "execution_count": 26,
   "metadata": {
    "colab": {
     "base_uri": "https://localhost:8080/",
     "height": 206
    },
    "id": "3A-hUV7ekuvM",
    "outputId": "3911a07c-fe33-49cc-a9a1-983383b61714"
   },
   "outputs": [
    {
     "data": {
      "text/html": [
       "<div>\n",
       "<style scoped>\n",
       "    .dataframe tbody tr th:only-of-type {\n",
       "        vertical-align: middle;\n",
       "    }\n",
       "\n",
       "    .dataframe tbody tr th {\n",
       "        vertical-align: top;\n",
       "    }\n",
       "\n",
       "    .dataframe thead th {\n",
       "        text-align: right;\n",
       "    }\n",
       "</style>\n",
       "<table border=\"1\" class=\"dataframe\">\n",
       "  <thead>\n",
       "    <tr style=\"text-align: right;\">\n",
       "      <th></th>\n",
       "      <th>preprocessed_news_text</th>\n",
       "    </tr>\n",
       "  </thead>\n",
       "  <tbody>\n",
       "    <tr>\n",
       "      <th>0</th>\n",
       "      <td>declin coal start start natur ga took start be...</td>\n",
       "    </tr>\n",
       "    <tr>\n",
       "      <th>3</th>\n",
       "      <td>econom turnaround start end term</td>\n",
       "    </tr>\n",
       "    <tr>\n",
       "      <th>6</th>\n",
       "      <td>person stage work activ last year pass along r...</td>\n",
       "    </tr>\n",
       "    <tr>\n",
       "      <th>7</th>\n",
       "      <td>howev took million oregon lotteri fund port ne...</td>\n",
       "    </tr>\n",
       "    <tr>\n",
       "      <th>10</th>\n",
       "      <td>sinc 2000 nearli 12 million american slip midd...</td>\n",
       "    </tr>\n",
       "  </tbody>\n",
       "</table>\n",
       "</div>"
      ],
      "text/plain": [
       "                               preprocessed_news_text\n",
       "0   declin coal start start natur ga took start be...\n",
       "3                    econom turnaround start end term\n",
       "6   person stage work activ last year pass along r...\n",
       "7   howev took million oregon lotteri fund port ne...\n",
       "10  sinc 2000 nearli 12 million american slip midd..."
      ]
     },
     "execution_count": 26,
     "metadata": {},
     "output_type": "execute_result"
    }
   ],
   "source": [
    "new_news_dataset.head()"
   ]
  },
  {
   "cell_type": "markdown",
   "metadata": {},
   "source": [
    "## Initializing TfidfVectorizer"
   ]
  },
  {
   "cell_type": "code",
   "execution_count": 27,
   "metadata": {
    "id": "autsDgl06jF2"
   },
   "outputs": [],
   "source": [
    "vectorizer = TfidfVectorizer()"
   ]
  },
  {
   "cell_type": "markdown",
   "metadata": {},
   "source": [
    "## Vectorizing all the pre-proccessed news texts"
   ]
  },
  {
   "cell_type": "code",
   "execution_count": 28,
   "metadata": {
    "id": "N1D-GJg08ExD"
   },
   "outputs": [],
   "source": [
    "X = vectorizer.fit_transform(new_news_dataset['preprocessed_news_text']).toarray()"
   ]
  },
  {
   "cell_type": "markdown",
   "metadata": {},
   "source": [
    "## Applying Principal Component Analysis(PCA) on the vectorized text to reduce it from high dimension to low dimension"
   ]
  },
  {
   "cell_type": "code",
   "execution_count": 29,
   "metadata": {},
   "outputs": [],
   "source": [
    "pca = PCA(n_components=2, random_state=42)"
   ]
  },
  {
   "cell_type": "code",
   "execution_count": 30,
   "metadata": {},
   "outputs": [],
   "source": [
    "X = pca.fit_transform(X)"
   ]
  },
  {
   "cell_type": "markdown",
   "metadata": {},
   "source": [
    "## Implementing k-means algorithm and finding the optimal number of clusters for k-means algorithm "
   ]
  },
  {
   "cell_type": "code",
   "execution_count": 31,
   "metadata": {
    "colab": {
     "base_uri": "https://localhost:8080/"
    },
    "id": "K6EsC1tb8Q1l",
    "outputId": "a0d49966-73d8-41a4-d394-9efbe7af949d"
   },
   "outputs": [
    {
     "name": "stderr",
     "output_type": "stream",
     "text": [
      "C:\\Users\\Somenath\\AppData\\Roaming\\Python\\Python311\\site-packages\\sklearn\\cluster\\_kmeans.py:870: FutureWarning: The default value of `n_init` will change from 10 to 'auto' in 1.4. Set the value of `n_init` explicitly to suppress the warning\n",
      "  warnings.warn(\n",
      "C:\\Users\\Somenath\\AppData\\Roaming\\Python\\Python311\\site-packages\\sklearn\\cluster\\_kmeans.py:870: FutureWarning: The default value of `n_init` will change from 10 to 'auto' in 1.4. Set the value of `n_init` explicitly to suppress the warning\n",
      "  warnings.warn(\n",
      "C:\\Users\\Somenath\\AppData\\Roaming\\Python\\Python311\\site-packages\\sklearn\\cluster\\_kmeans.py:870: FutureWarning: The default value of `n_init` will change from 10 to 'auto' in 1.4. Set the value of `n_init` explicitly to suppress the warning\n",
      "  warnings.warn(\n",
      "C:\\Users\\Somenath\\AppData\\Roaming\\Python\\Python311\\site-packages\\sklearn\\cluster\\_kmeans.py:870: FutureWarning: The default value of `n_init` will change from 10 to 'auto' in 1.4. Set the value of `n_init` explicitly to suppress the warning\n",
      "  warnings.warn(\n",
      "C:\\Users\\Somenath\\AppData\\Roaming\\Python\\Python311\\site-packages\\sklearn\\cluster\\_kmeans.py:870: FutureWarning: The default value of `n_init` will change from 10 to 'auto' in 1.4. Set the value of `n_init` explicitly to suppress the warning\n",
      "  warnings.warn(\n",
      "C:\\Users\\Somenath\\AppData\\Roaming\\Python\\Python311\\site-packages\\sklearn\\cluster\\_kmeans.py:870: FutureWarning: The default value of `n_init` will change from 10 to 'auto' in 1.4. Set the value of `n_init` explicitly to suppress the warning\n",
      "  warnings.warn(\n",
      "C:\\Users\\Somenath\\AppData\\Roaming\\Python\\Python311\\site-packages\\sklearn\\cluster\\_kmeans.py:870: FutureWarning: The default value of `n_init` will change from 10 to 'auto' in 1.4. Set the value of `n_init` explicitly to suppress the warning\n",
      "  warnings.warn(\n",
      "C:\\Users\\Somenath\\AppData\\Roaming\\Python\\Python311\\site-packages\\sklearn\\cluster\\_kmeans.py:870: FutureWarning: The default value of `n_init` will change from 10 to 'auto' in 1.4. Set the value of `n_init` explicitly to suppress the warning\n",
      "  warnings.warn(\n",
      "C:\\Users\\Somenath\\AppData\\Roaming\\Python\\Python311\\site-packages\\sklearn\\cluster\\_kmeans.py:870: FutureWarning: The default value of `n_init` will change from 10 to 'auto' in 1.4. Set the value of `n_init` explicitly to suppress the warning\n",
      "  warnings.warn(\n",
      "C:\\Users\\Somenath\\AppData\\Roaming\\Python\\Python311\\site-packages\\sklearn\\cluster\\_kmeans.py:870: FutureWarning: The default value of `n_init` will change from 10 to 'auto' in 1.4. Set the value of `n_init` explicitly to suppress the warning\n",
      "  warnings.warn(\n"
     ]
    }
   ],
   "source": [
    "wcss = []\n",
    "\n",
    "for i in range(1, 11):\n",
    "\n",
    "  kmeans = KMeans(n_clusters=i, init='k-means++', random_state=42)\n",
    "\n",
    "  kmeans.fit(X)\n",
    "\n",
    "  wcss.append(kmeans.inertia_)"
   ]
  },
  {
   "cell_type": "code",
   "execution_count": 32,
   "metadata": {
    "id": "ZFSTOxQQBOtB"
   },
   "outputs": [
    {
     "data": {
      "text/plain": [
       "[5.213262416759263,\n",
       " 3.480173567965202,\n",
       " 2.0397436362091304,\n",
       " 1.561084035474699,\n",
       " 1.2661923890496474,\n",
       " 1.0048428509859741,\n",
       " 0.8756050402702884,\n",
       " 0.7543980346494221,\n",
       " 0.6596261435684572,\n",
       " 0.5657216613471671]"
      ]
     },
     "execution_count": 32,
     "metadata": {},
     "output_type": "execute_result"
    }
   ],
   "source": [
    "wcss"
   ]
  },
  {
   "cell_type": "markdown",
   "metadata": {},
   "source": [
    "## Plotting the elbow point graph of the k-means algorithm"
   ]
  },
  {
   "cell_type": "code",
   "execution_count": 33,
   "metadata": {
    "id": "B6KbWIGRCNkG"
   },
   "outputs": [
    {
     "data": {
      "image/png": "[encoded data removed]",
      "text/plain": [
       "<Figure size 640x480 with 1 Axes>"
      ]
     },
     "metadata": {},
     "output_type": "display_data"
    }
   ],
   "source": [
    "sns.set()\n",
    "\n",
    "plt.plot(range(1, 11), wcss)\n",
    "\n",
    "plt.title('The Elbow Point Graph')\n",
    "plt.xlabel('Number of Clusters')\n",
    "plt.ylabel('WCSS')\n",
    "\n",
    "plt.show()"
   ]
  },
  {
   "cell_type": "markdown",
   "metadata": {},
   "source": [
    "### In this elbow graph, we can see that after n_clusters=6, the graph is getting stabilized. Therefore, the optimal number of clusters for k-means is 6"
   ]
  },
  {
   "cell_type": "markdown",
   "metadata": {},
   "source": [
    "## Training the model with the optimal number of clusters found in the elbow point graph"
   ]
  },
  {
   "cell_type": "code",
   "execution_count": 34,
   "metadata": {
    "id": "n1N_inlAdXyC"
   },
   "outputs": [],
   "source": [
    "kmeans = KMeans(n_clusters=6, init='k-means++', random_state=42)"
   ]
  },
  {
   "cell_type": "code",
   "execution_count": 35,
   "metadata": {
    "colab": {
     "background_save": true
    },
    "id": "Sb8vJIvdf1CI",
    "outputId": "721dcbdb-6a74-4861-e2fa-e6bef6f18316"
   },
   "outputs": [
    {
     "name": "stderr",
     "output_type": "stream",
     "text": [
      "C:\\Users\\Somenath\\AppData\\Roaming\\Python\\Python311\\site-packages\\sklearn\\cluster\\_kmeans.py:870: FutureWarning: The default value of `n_init` will change from 10 to 'auto' in 1.4. Set the value of `n_init` explicitly to suppress the warning\n",
      "  warnings.warn(\n"
     ]
    },
    {
     "data": {
      "text/plain": [
       "array([1, 3, 3, 3, 3, 2, 2, 0, 3, 0, 2, 3, 2, 3, 3, 0, 1, 1, 4, 1, 3, 2,\n",
       "       3, 0, 5, 0, 1, 3, 3, 1, 1, 4, 5, 4, 0, 3, 3, 3, 0, 1, 0, 3, 4, 0,\n",
       "       1, 2, 3, 0, 0, 0, 3, 3, 3, 3, 3, 0, 5, 1, 3, 3, 3, 4, 0, 3, 3, 3,\n",
       "       3, 1, 3, 0, 3, 3, 2, 5, 3, 3, 2, 2, 2, 2, 3, 3, 0, 3, 0, 0, 3, 0,\n",
       "       3, 1, 3, 0, 3, 1, 3, 3, 2, 0, 3, 3, 3, 3, 3, 3, 0, 3, 3, 3, 1, 3,\n",
       "       5, 0, 1, 1, 2, 0, 0, 3, 1, 3, 5, 3, 5, 0, 3, 0, 3, 3, 3, 5, 1, 0,\n",
       "       3, 2, 3, 0, 3, 3, 3, 0, 5, 0, 3, 3, 3, 3, 3, 5, 0, 3, 1, 0, 5, 5,\n",
       "       3, 2, 0, 0, 3, 4, 1, 0, 2, 5, 0, 3, 3, 1, 0, 0, 3, 0, 0, 3, 1, 3,\n",
       "       5, 0, 1, 1, 1, 3, 3, 0, 3, 0, 3, 1, 3, 3, 3, 3, 3, 0, 0, 3, 2, 3,\n",
       "       3, 3, 3, 3, 3, 0])"
      ]
     },
     "execution_count": 35,
     "metadata": {},
     "output_type": "execute_result"
    }
   ],
   "source": [
    "kmeans.fit_predict(X)"
   ]
  },
  {
   "cell_type": "code",
   "execution_count": 36,
   "metadata": {
    "colab": {
     "background_save": true
    },
    "id": "tu7hzu-igosA"
   },
   "outputs": [],
   "source": [
    "kmeans_labels = kmeans.labels_"
   ]
  },
  {
   "cell_type": "code",
   "execution_count": 37,
   "metadata": {
    "colab": {
     "background_save": true
    },
    "id": "lrsqgmsJgtpF",
    "outputId": "a2ebbc48-3425-42a7-b764-e58411a27297"
   },
   "outputs": [
    {
     "data": {
      "text/plain": [
       "array([1, 3, 3, 3, 3, 2, 2, 0, 3, 0, 2, 3, 2, 3, 3, 0, 1, 1, 4, 1, 3, 2,\n",
       "       3, 0, 5, 0, 1, 3, 3, 1, 1, 4, 5, 4, 0, 3, 3, 3, 0, 1, 0, 3, 4, 0,\n",
       "       1, 2, 3, 0, 0, 0, 3, 3, 3, 3, 3, 0, 5, 1, 3, 3, 3, 4, 0, 3, 3, 3,\n",
       "       3, 1, 3, 0, 3, 3, 2, 5, 3, 3, 2, 2, 2, 2, 3, 3, 0, 3, 0, 0, 3, 0,\n",
       "       3, 1, 3, 0, 3, 1, 3, 3, 2, 0, 3, 3, 3, 3, 3, 3, 0, 3, 3, 3, 1, 3,\n",
       "       5, 0, 1, 1, 2, 0, 0, 3, 1, 3, 5, 3, 5, 0, 3, 0, 3, 3, 3, 5, 1, 0,\n",
       "       3, 2, 3, 0, 3, 3, 3, 0, 5, 0, 3, 3, 3, 3, 3, 5, 0, 3, 1, 0, 5, 5,\n",
       "       3, 2, 0, 0, 3, 4, 1, 0, 2, 5, 0, 3, 3, 1, 0, 0, 3, 0, 0, 3, 1, 3,\n",
       "       5, 0, 1, 1, 1, 3, 3, 0, 3, 0, 3, 1, 3, 3, 3, 3, 3, 0, 0, 3, 2, 3,\n",
       "       3, 3, 3, 3, 3, 0])"
      ]
     },
     "execution_count": 37,
     "metadata": {},
     "output_type": "execute_result"
    }
   ],
   "source": [
    "kmeans_labels"
   ]
  },
  {
   "cell_type": "markdown",
   "metadata": {},
   "source": [
    "## Plotting the clusters as a scatter plot"
   ]
  },
  {
   "cell_type": "code",
   "execution_count": 38,
   "metadata": {},
   "outputs": [
    {
     "data": {
      "text/plain": [
       "Text(0.5, 1.0, 'Kmeans Clustering')"
      ]
     },
     "execution_count": 38,
     "metadata": {},
     "output_type": "execute_result"
    },
    {
     "data": {
      "image/png": "[encoded data removed]",
      "text/plain": [
       "<Figure size 1000x700 with 1 Axes>"
      ]
     },
     "metadata": {},
     "output_type": "display_data"
    }
   ],
   "source": [
    "plt.figure(figsize=(10, 7))\n",
    "plt.scatter(X[:, 0], X[:, 1], c=kmeans_labels, cmap='rainbow')\n",
    "plt.scatter(kmeans.cluster_centers_[:, 0], kmeans.cluster_centers_[:, 1], s=100, c='black', label='centroid')\n",
    "plt.title('Kmeans Clustering')"
   ]
  },
  {
   "cell_type": "markdown",
   "metadata": {},
   "source": [
    "## Checking the quality of the cluster of kmeans with the help of silhouette score"
   ]
  },
  {
   "cell_type": "code",
   "execution_count": 39,
   "metadata": {},
   "outputs": [],
   "source": [
    "silhouette_score_kmeans = silhouette_score(X, kmeans_labels)"
   ]
  },
  {
   "cell_type": "code",
   "execution_count": 40,
   "metadata": {},
   "outputs": [
    {
     "data": {
      "text/plain": [
       "0.42312189249800153"
      ]
     },
     "execution_count": 40,
     "metadata": {},
     "output_type": "execute_result"
    }
   ],
   "source": [
    "silhouette_score_kmeans"
   ]
  },
  {
   "cell_type": "markdown",
   "metadata": {
    "id": "ZKRYASgIc_z8"
   },
   "source": [
    "## Implementing K-medoids and finding the optimal number of clusters for k-medoids algorithm "
   ]
  },
  {
   "cell_type": "code",
   "execution_count": 41,
   "metadata": {
    "colab": {
     "background_save": true
    },
    "id": "bN4EEVcSHScE"
   },
   "outputs": [],
   "source": [
    "wcss = []\n",
    "\n",
    "for i in range(1, 11):\n",
    "\n",
    "    kmedoids = KMedoids(n_clusters=i, init='k-medoids++', random_state=42)\n",
    "\n",
    "    kmedoids.fit(X)\n",
    "\n",
    "    wcss.append(kmedoids.inertia_)"
   ]
  },
  {
   "cell_type": "code",
   "execution_count": 42,
   "metadata": {
    "colab": {
     "background_save": true
    },
    "id": "zLnvQosnJ6n0",
    "outputId": "e1672bbd-3497-439e-c2bb-76559d82d276"
   },
   "outputs": [
    {
     "data": {
      "text/plain": [
       "[25.138844385684887,\n",
       " 20.65000754108016,\n",
       " 17.769300006905688,\n",
       " 16.043030393665074,\n",
       " 12.856254154892808,\n",
       " 12.011514999893706,\n",
       " 11.01156904235392,\n",
       " 10.527313091796,\n",
       " 9.580472029363936,\n",
       " 9.228097988889935]"
      ]
     },
     "execution_count": 42,
     "metadata": {},
     "output_type": "execute_result"
    }
   ],
   "source": [
    "wcss"
   ]
  },
  {
   "cell_type": "markdown",
   "metadata": {},
   "source": [
    "## Plotting the elbow point graph of the k-medoids algorithm"
   ]
  },
  {
   "cell_type": "code",
   "execution_count": 43,
   "metadata": {
    "colab": {
     "background_save": true
    },
    "id": "7A4-zmeOJ_eH",
    "outputId": "cee8c916-ef85-4891-c162-67f3dcf1ad45"
   },
   "outputs": [
    {
     "data": {
      "image/png": "[encoded data removed]",
      "text/plain": [
       "<Figure size 640x480 with 1 Axes>"
      ]
     },
     "metadata": {},
     "output_type": "display_data"
    }
   ],
   "source": [
    "sns.set()\n",
    "\n",
    "plt.plot(range(1, 11), wcss)\n",
    "\n",
    "plt.title('The Elbow Point Graph')\n",
    "plt.xlabel('Number of Clusters')\n",
    "plt.ylabel('WCSS')\n",
    "\n",
    "plt.show()"
   ]
  },
  {
   "cell_type": "markdown",
   "metadata": {},
   "source": [
    "### In this elbow graph, we can see that after n_clusters=5, the graph is getting stabilized. Therefore, the optimal number of clusters for k-medoid is 5"
   ]
  },
  {
   "cell_type": "markdown",
   "metadata": {},
   "source": [
    "## Training the model with the optimal number of clusters found in the elbow point graph"
   ]
  },
  {
   "cell_type": "code",
   "execution_count": 44,
   "metadata": {
    "colab": {
     "background_save": true
    },
    "id": "IisTUiggh57Y"
   },
   "outputs": [],
   "source": [
    "kmedoids = KMedoids(n_clusters=5, random_state=42)"
   ]
  },
  {
   "cell_type": "code",
   "execution_count": 45,
   "metadata": {
    "colab": {
     "background_save": true
    },
    "id": "ECGJruv8h-Xe",
    "outputId": "3bbcdc80-708e-4589-e434-e52357c46fa7"
   },
   "outputs": [
    {
     "data": {
      "text/plain": [
       "array([0, 3, 4, 3, 4, 4, 4, 1, 2, 2, 4, 3, 4, 3, 2, 2, 0, 0, 0, 0, 3, 4,\n",
       "       3, 1, 4, 1, 0, 3, 3, 0, 0, 0, 4, 0, 2, 3, 2, 3, 2, 0, 1, 2, 0, 1,\n",
       "       0, 4, 3, 1, 1, 1, 4, 3, 4, 3, 3, 1, 4, 0, 3, 3, 3, 0, 1, 3, 3, 3,\n",
       "       3, 3, 3, 2, 4, 3, 4, 4, 4, 3, 4, 4, 4, 4, 3, 4, 1, 3, 1, 1, 3, 2,\n",
       "       3, 0, 3, 3, 4, 0, 3, 4, 4, 2, 4, 2, 3, 3, 3, 3, 1, 2, 3, 4, 0, 3,\n",
       "       4, 3, 3, 0, 4, 1, 2, 3, 3, 3, 4, 3, 0, 1, 3, 1, 3, 3, 3, 4, 0, 1,\n",
       "       3, 4, 3, 1, 3, 3, 3, 1, 4, 1, 3, 3, 3, 3, 3, 0, 1, 4, 3, 1, 4, 4,\n",
       "       3, 4, 2, 1, 3, 0, 0, 1, 4, 4, 1, 3, 3, 0, 2, 1, 3, 2, 1, 3, 0, 3,\n",
       "       4, 1, 0, 0, 0, 3, 3, 1, 3, 1, 2, 0, 2, 4, 3, 3, 4, 3, 1, 3, 4, 3,\n",
       "       3, 2, 3, 3, 3, 2], dtype=int64)"
      ]
     },
     "execution_count": 45,
     "metadata": {},
     "output_type": "execute_result"
    }
   ],
   "source": [
    "kmedoids.fit_predict(X)"
   ]
  },
  {
   "cell_type": "code",
   "execution_count": 46,
   "metadata": {
    "colab": {
     "background_save": true
    },
    "id": "nTVkTUtTiCD8"
   },
   "outputs": [],
   "source": [
    "kmediod_labels = kmedoids.labels_"
   ]
  },
  {
   "cell_type": "code",
   "execution_count": 47,
   "metadata": {
    "colab": {
     "background_save": true
    },
    "id": "4h6jebXwie6g",
    "outputId": "bcbd3eae-cd8d-4f4f-d704-d7fc5a553e73"
   },
   "outputs": [
    {
     "data": {
      "text/plain": [
       "array([0, 3, 4, 3, 4, 4, 4, 1, 2, 2, 4, 3, 4, 3, 2, 2, 0, 0, 0, 0, 3, 4,\n",
       "       3, 1, 4, 1, 0, 3, 3, 0, 0, 0, 4, 0, 2, 3, 2, 3, 2, 0, 1, 2, 0, 1,\n",
       "       0, 4, 3, 1, 1, 1, 4, 3, 4, 3, 3, 1, 4, 0, 3, 3, 3, 0, 1, 3, 3, 3,\n",
       "       3, 3, 3, 2, 4, 3, 4, 4, 4, 3, 4, 4, 4, 4, 3, 4, 1, 3, 1, 1, 3, 2,\n",
       "       3, 0, 3, 3, 4, 0, 3, 4, 4, 2, 4, 2, 3, 3, 3, 3, 1, 2, 3, 4, 0, 3,\n",
       "       4, 3, 3, 0, 4, 1, 2, 3, 3, 3, 4, 3, 0, 1, 3, 1, 3, 3, 3, 4, 0, 1,\n",
       "       3, 4, 3, 1, 3, 3, 3, 1, 4, 1, 3, 3, 3, 3, 3, 0, 1, 4, 3, 1, 4, 4,\n",
       "       3, 4, 2, 1, 3, 0, 0, 1, 4, 4, 1, 3, 3, 0, 2, 1, 3, 2, 1, 3, 0, 3,\n",
       "       4, 1, 0, 0, 0, 3, 3, 1, 3, 1, 2, 0, 2, 4, 3, 3, 4, 3, 1, 3, 4, 3,\n",
       "       3, 2, 3, 3, 3, 2], dtype=int64)"
      ]
     },
     "execution_count": 47,
     "metadata": {},
     "output_type": "execute_result"
    }
   ],
   "source": [
    "kmediod_labels"
   ]
  },
  {
   "cell_type": "markdown",
   "metadata": {},
   "source": [
    "## Plotting the clusters as a scatter plot"
   ]
  },
  {
   "cell_type": "code",
   "execution_count": 48,
   "metadata": {},
   "outputs": [
    {
     "data": {
      "text/plain": [
       "Text(0.5, 1.0, 'Kmedoid Clustering')"
      ]
     },
     "execution_count": 48,
     "metadata": {},
     "output_type": "execute_result"
    },
    {
     "data": {
      "image/png": "[encoded data removed]",
      "text/plain": [
       "<Figure size 1000x700 with 1 Axes>"
      ]
     },
     "metadata": {},
     "output_type": "display_data"
    }
   ],
   "source": [
    "plt.figure(figsize=(10, 7))\n",
    "plt.scatter(X[:, 0], X[:, 1], c=kmediod_labels, cmap='rainbow')\n",
    "plt.scatter(kmedoids.cluster_centers_[:, 0], kmedoids.cluster_centers_[:, 1], s=100, c='black', label='centroid')\n",
    "plt.title('Kmedoid Clustering')"
   ]
  },
  {
   "cell_type": "markdown",
   "metadata": {},
   "source": [
    "## Checking the quality of the cluster of kmedoid with the help of silhouette score"
   ]
  },
  {
   "cell_type": "code",
   "execution_count": 49,
   "metadata": {},
   "outputs": [],
   "source": [
    "silhouette_score_kmedoid = silhouette_score(X, kmediod_labels)"
   ]
  },
  {
   "cell_type": "code",
   "execution_count": 50,
   "metadata": {},
   "outputs": [
    {
     "data": {
      "text/plain": [
       "0.23025127510532378"
      ]
     },
     "execution_count": 50,
     "metadata": {},
     "output_type": "execute_result"
    }
   ],
   "source": [
    "silhouette_score_kmedoid"
   ]
  },
  {
   "cell_type": "markdown",
   "metadata": {},
   "source": [
    "## Implementing Agglomerative Hierarical Clustering Algorithm and finding the optimal number of clusters for agglomerative hierarical clustering algorithm"
   ]
  },
  {
   "cell_type": "code",
   "execution_count": 51,
   "metadata": {
    "colab": {
     "background_save": true
    },
    "id": "6aYrJb6fpbbe",
    "outputId": "4666f031-aca2-4c28-ee25-fc36277b6d0f"
   },
   "outputs": [
    {
     "data": {
      "image/png": "[encoded data removed]",
      "text/plain": [
       "<Figure size 1600x1000 with 1 Axes>"
      ]
     },
     "metadata": {},
     "output_type": "display_data"
    }
   ],
   "source": [
    "plt.figure(figsize=(16, 10))\n",
    "\n",
    "plt.title('News Dendogram')\n",
    "\n",
    "dend = shc.dendrogram(shc.linkage(X, method='ward'))"
   ]
  },
  {
   "cell_type": "markdown",
   "metadata": {},
   "source": [
    "### By cutting the dendrogram horizontally along the longest line, we get 3 clusters, indicating that the optimal number of clusters for agglomerative clustering is 3."
   ]
  },
  {
   "cell_type": "markdown",
   "metadata": {},
   "source": [
    "## Training the model with the optimal number of clusters found from the dendogram"
   ]
  },
  {
   "cell_type": "code",
   "execution_count": 52,
   "metadata": {
    "colab": {
     "background_save": true
    },
    "id": "8-zLpP9fuC6R"
   },
   "outputs": [],
   "source": [
    "cluster_hierarcial = AgglomerativeClustering(n_clusters=3, affinity='euclidean', linkage='ward')"
   ]
  },
  {
   "cell_type": "code",
   "execution_count": 53,
   "metadata": {
    "colab": {
     "background_save": true
    },
    "id": "bZhBuED-uLqI",
    "outputId": "d0fc58f3-1476-4fcc-fc00-eda7ce826bd2"
   },
   "outputs": [
    {
     "name": "stderr",
     "output_type": "stream",
     "text": [
      "C:\\Users\\Somenath\\AppData\\Roaming\\Python\\Python311\\site-packages\\sklearn\\cluster\\_agglomerative.py:983: FutureWarning: Attribute `affinity` was deprecated in version 1.2 and will be removed in 1.4. Use `metric` instead\n",
      "  warnings.warn(\n"
     ]
    },
    {
     "data": {
      "text/plain": [
       "array([2, 0, 0, 0, 0, 1, 1, 0, 0, 0, 1, 0, 1, 0, 0, 0, 0, 0, 2, 0, 0, 1,\n",
       "       0, 0, 2, 0, 0, 0, 0, 0, 0, 2, 0, 2, 0, 0, 0, 0, 0, 0, 0, 0, 2, 0,\n",
       "       0, 1, 0, 0, 0, 0, 0, 0, 0, 0, 0, 0, 0, 0, 0, 0, 0, 2, 0, 0, 0, 0,\n",
       "       0, 0, 0, 0, 0, 0, 1, 0, 1, 0, 1, 1, 1, 1, 0, 0, 0, 0, 0, 0, 0, 0,\n",
       "       0, 0, 0, 0, 0, 2, 0, 0, 1, 0, 0, 0, 0, 0, 0, 0, 0, 0, 0, 0, 2, 0,\n",
       "       2, 0, 0, 0, 1, 0, 0, 0, 0, 0, 1, 0, 2, 0, 0, 0, 0, 0, 0, 0, 0, 0,\n",
       "       0, 1, 0, 0, 0, 0, 0, 0, 0, 0, 0, 0, 0, 0, 0, 2, 0, 0, 0, 0, 2, 2,\n",
       "       0, 1, 0, 0, 0, 2, 0, 0, 1, 2, 0, 0, 0, 2, 0, 0, 0, 0, 0, 0, 2, 0,\n",
       "       2, 0, 2, 2, 0, 0, 0, 0, 0, 0, 0, 2, 0, 0, 0, 0, 0, 0, 0, 0, 1, 0,\n",
       "       0, 0, 0, 0, 0, 0], dtype=int64)"
      ]
     },
     "execution_count": 53,
     "metadata": {},
     "output_type": "execute_result"
    }
   ],
   "source": [
    "cluster_hierarcial.fit_predict(X)"
   ]
  },
  {
   "cell_type": "code",
   "execution_count": 54,
   "metadata": {
    "colab": {
     "background_save": true
    },
    "id": "lWEX_mN2uiRX"
   },
   "outputs": [],
   "source": [
    "hiearachy_labels = cluster_hierarcial.labels_"
   ]
  },
  {
   "cell_type": "markdown",
   "metadata": {},
   "source": [
    "## Plotting the clusters as a scatter plot"
   ]
  },
  {
   "cell_type": "code",
   "execution_count": 55,
   "metadata": {},
   "outputs": [
    {
     "data": {
      "text/plain": [
       "Text(0.5, 1.0, 'Agglomerative Hierarical Clustering')"
      ]
     },
     "execution_count": 55,
     "metadata": {},
     "output_type": "execute_result"
    },
    {
     "data": {
      "image/png": "[encoded data removed]",
      "text/plain": [
       "<Figure size 1000x700 with 1 Axes>"
      ]
     },
     "metadata": {},
     "output_type": "display_data"
    }
   ],
   "source": [
    "plt.figure(figsize=(10, 7))\n",
    "plt.scatter(X[:, 0], X[:, 1], c=hiearachy_labels, cmap='rainbow')\n",
    "plt.title('Agglomerative Hierarical Clustering')"
   ]
  },
  {
   "cell_type": "markdown",
   "metadata": {},
   "source": [
    "## Checking the quality of the cluster of agglomerative hierarical with the help of silhouette score"
   ]
  },
  {
   "cell_type": "code",
   "execution_count": 56,
   "metadata": {},
   "outputs": [],
   "source": [
    "silhouette_score_hierarchy = silhouette_score(X, hiearachy_labels)"
   ]
  },
  {
   "cell_type": "code",
   "execution_count": 57,
   "metadata": {},
   "outputs": [
    {
     "data": {
      "text/plain": [
       "0.5236998723248727"
      ]
     },
     "execution_count": 57,
     "metadata": {},
     "output_type": "execute_result"
    }
   ],
   "source": [
    "silhouette_score_hierarchy"
   ]
  },
  {
   "cell_type": "markdown",
   "metadata": {},
   "source": [
    "## Creating a table of the silhouette score of the three algorithm for better comparison"
   ]
  },
  {
   "cell_type": "code",
   "execution_count": 58,
   "metadata": {},
   "outputs": [],
   "source": [
    "silhoutte_score_df = pd.DataFrame({\n",
    "    'Algorithm': ['k-means Clustering', 'k-medoids Clustering', 'Agglomerative Hierarical Clustering'],\n",
    "    'Silhouette Score': [silhouette_score_kmeans, silhouette_score_kmedoid, silhouette_score_hierarchy]\n",
    "})"
   ]
  },
  {
   "cell_type": "code",
   "execution_count": 59,
   "metadata": {},
   "outputs": [
    {
     "data": {
      "text/html": [
       "<div>\n",
       "<style scoped>\n",
       "    .dataframe tbody tr th:only-of-type {\n",
       "        vertical-align: middle;\n",
       "    }\n",
       "\n",
       "    .dataframe tbody tr th {\n",
       "        vertical-align: top;\n",
       "    }\n",
       "\n",
       "    .dataframe thead th {\n",
       "        text-align: right;\n",
       "    }\n",
       "</style>\n",
       "<table border=\"1\" class=\"dataframe\">\n",
       "  <thead>\n",
       "    <tr style=\"text-align: right;\">\n",
       "      <th></th>\n",
       "      <th>Algorithm</th>\n",
       "      <th>Silhouette Score</th>\n",
       "    </tr>\n",
       "  </thead>\n",
       "  <tbody>\n",
       "    <tr>\n",
       "      <th>0</th>\n",
       "      <td>k-means Clustering</td>\n",
       "      <td>0.423122</td>\n",
       "    </tr>\n",
       "    <tr>\n",
       "      <th>1</th>\n",
       "      <td>k-medoids Clustering</td>\n",
       "      <td>0.230251</td>\n",
       "    </tr>\n",
       "    <tr>\n",
       "      <th>2</th>\n",
       "      <td>Agglomerative Hierarical Clustering</td>\n",
       "      <td>0.523700</td>\n",
       "    </tr>\n",
       "  </tbody>\n",
       "</table>\n",
       "</div>"
      ],
      "text/plain": [
       "                             Algorithm  Silhouette Score\n",
       "0                   k-means Clustering          0.423122\n",
       "1                 k-medoids Clustering          0.230251\n",
       "2  Agglomerative Hierarical Clustering          0.523700"
      ]
     },
     "execution_count": 59,
     "metadata": {},
     "output_type": "execute_result"
    }
   ],
   "source": [
    "silhoutte_score_df"
   ]
  },
  {
   "cell_type": "code",
   "execution_count": 60,
   "metadata": {},
   "outputs": [
    {
     "data": {
      "text/plain": [
       "Text(0.5, 1.0, 'Silhouette Score of each Algorithm')"
      ]
     },
     "execution_count": 60,
     "metadata": {},
     "output_type": "execute_result"
    },
    {
     "data": {
      "text/plain": [
       "<Figure size 1200x800 with 0 Axes>"
      ]
     },
     "metadata": {},
     "output_type": "display_data"
    },
    {
     "data": {
      "image/png": "[encoded data removed]",
      "text/plain": [
       "<Figure size 640x480 with 1 Axes>"
      ]
     },
     "metadata": {},
     "output_type": "display_data"
    }
   ],
   "source": [
    "plt.figure(figsize=(12, 8))\n",
    "\n",
    "silhoutte_score_df.plot(kind='bar', x='Algorithm')\n",
    "plt.ylabel('Silhouette Score')\n",
    "plt.title('Silhouette Score of each Algorithm')"
   ]
  },
  {
   "cell_type": "markdown",
   "metadata": {},
   "source": [
    "## Conclusion\n",
    "\n",
    "From the table and the graph, it is clear that the silhouette score of Agglomerative Hierarical Clustering is highest among the three indicating that it is the best clustering algorithm for our use case.\n",
    "\n",
    "Therefore, for this project, THE OPTIMAL NUMBER OF CLUSTERS IS 3."
   ]
  },
  {
   "cell_type": "markdown",
   "metadata": {},
   "source": [
    "## Testing the model with sample data"
   ]
  },
  {
   "cell_type": "markdown",
   "metadata": {},
   "source": [
    "### Creating some sample data"
   ]
  },
  {
   "cell_type": "code",
   "execution_count": 61,
   "metadata": {},
   "outputs": [],
   "source": [
    "sample_data_true = 'The Chicago Bears have had more starting quarterbacks in the last 10 years than the total number of tenured (UW) faculty fired during the last two decades.'\n",
    "sample_data_false = 'Health care reform legislation is likely to mandate free sex change surgeries.'\n",
    "sample_data_half_true = 'When did the decline of coal start? It started when natural gas took off that started to begin in (President George W.) Bushs administration.'\n",
    "sample_data_mostly_true = 'Hillary Clinton agrees with John McCain \"by voting to give George Bush the benefit of the doubt on Iran.\"'\n",
    "sample_data_barely_true = 'Jim Dunnam has not lived in the district he represents for years now.'\n",
    "sample_data_pants_fire = 'In the case of a catastrophic event, the Atlanta-area offices of the Centers for Disease Control and Prevention will self-destruct.'"
   ]
  },
  {
   "cell_type": "markdown",
   "metadata": {},
   "source": [
    "### Pre-processing the sample datas"
   ]
  },
  {
   "cell_type": "code",
   "execution_count": 62,
   "metadata": {},
   "outputs": [],
   "source": [
    "sample_data_true_preproccessed = preprocess_text(sample_data_true)\n",
    "sample_data_false_preproccessed = preprocess_text(sample_data_false)\n",
    "sample_data_half_true_preproccessed = preprocess_text(sample_data_half_true)\n",
    "sample_data_mostly_true_preproccessed = preprocess_text(sample_data_mostly_true)\n",
    "sample_data_barely_true_preproccessed = preprocess_text(sample_data_barely_true)\n",
    "sample_data_pants_fire_preproccessed = preprocess_text(sample_data_pants_fire)"
   ]
  },
  {
   "cell_type": "markdown",
   "metadata": {},
   "source": [
    "### Vectorizing the sample datas"
   ]
  },
  {
   "cell_type": "code",
   "execution_count": 63,
   "metadata": {},
   "outputs": [],
   "source": [
    "sample_data_true_vectorized = vectorizer.transform([sample_data_true_preproccessed]).toarray()\n",
    "sample_data_false_vectorized = vectorizer.transform([sample_data_false_preproccessed]).toarray()\n",
    "sample_data_half_true_vectorized = vectorizer.transform([sample_data_half_true_preproccessed]).toarray()\n",
    "sample_data_mostly_true_vectorized = vectorizer.transform([sample_data_mostly_true_preproccessed]).toarray()\n",
    "sample_data_barely_true_vectorized = vectorizer.transform([sample_data_barely_true_preproccessed]).toarray()\n",
    "sample_data_pants_fire_vectorized = vectorizer.transform([sample_data_pants_fire_preproccessed]).toarray()"
   ]
  },
  {
   "cell_type": "markdown",
   "metadata": {},
   "source": [
    "### Applying PCA on the sample datas"
   ]
  },
  {
   "cell_type": "code",
   "execution_count": 64,
   "metadata": {},
   "outputs": [],
   "source": [
    "sample_data_true_pca = pca.transform(sample_data_barely_true_vectorized)\n",
    "sample_data_false_pca = pca.transform(sample_data_false_vectorized)\n",
    "sample_data_half_true_pca = pca.transform(sample_data_half_true_vectorized)\n",
    "sample_data_mostly_true_pca = pca.transform(sample_data_mostly_true_vectorized)\n",
    "sample_data_barely_true_pca = pca.transform(sample_data_barely_true_vectorized)\n",
    "sample_data_pants_fire_pca = pca.transform(sample_data_pants_fire_vectorized)"
   ]
  },
  {
   "cell_type": "markdown",
   "metadata": {},
   "source": [
    "### Using K-Means Algorithm to make prediction on SIngle Input"
   ]
  },
  {
   "cell_type": "code",
   "execution_count": 65,
   "metadata": {},
   "outputs": [],
   "source": [
    "kmeans = KMeans(n_clusters = 3, init='k-means++', random_state=42)"
   ]
  },
  {
   "cell_type": "code",
   "execution_count": 66,
   "metadata": {},
   "outputs": [
    {
     "name": "stderr",
     "output_type": "stream",
     "text": [
      "C:\\Users\\Somenath\\AppData\\Roaming\\Python\\Python311\\site-packages\\sklearn\\cluster\\_kmeans.py:870: FutureWarning: The default value of `n_init` will change from 10 to 'auto' in 1.4. Set the value of `n_init` explicitly to suppress the warning\n",
      "  warnings.warn(\n"
     ]
    },
    {
     "data": {
      "text/plain": [
       "array([1, 2, 2, 2, 2, 0, 0, 2, 2, 2, 0, 2, 0, 2, 2, 2, 1, 1, 1, 1, 2, 0,\n",
       "       2, 2, 1, 2, 2, 2, 2, 1, 2, 1, 1, 1, 2, 2, 2, 2, 2, 1, 2, 2, 1, 2,\n",
       "       1, 0, 2, 2, 2, 2, 2, 2, 2, 2, 2, 2, 1, 1, 2, 2, 2, 1, 2, 2, 2, 2,\n",
       "       2, 2, 2, 2, 0, 2, 0, 1, 0, 2, 0, 0, 0, 0, 2, 2, 2, 2, 2, 2, 2, 2,\n",
       "       2, 1, 2, 2, 2, 1, 2, 2, 0, 2, 2, 2, 2, 2, 2, 2, 2, 2, 2, 2, 1, 2,\n",
       "       1, 2, 2, 1, 0, 2, 2, 2, 2, 2, 0, 2, 1, 2, 2, 2, 2, 2, 2, 1, 1, 2,\n",
       "       2, 0, 2, 2, 2, 2, 2, 2, 1, 2, 2, 2, 2, 2, 2, 1, 2, 2, 2, 2, 0, 1,\n",
       "       2, 0, 2, 2, 2, 1, 2, 2, 0, 1, 2, 2, 2, 1, 2, 2, 2, 2, 2, 2, 1, 2,\n",
       "       1, 2, 1, 1, 1, 2, 2, 2, 2, 2, 2, 1, 2, 2, 2, 2, 2, 2, 2, 2, 0, 2,\n",
       "       2, 2, 2, 2, 2, 2])"
      ]
     },
     "execution_count": 66,
     "metadata": {},
     "output_type": "execute_result"
    }
   ],
   "source": [
    "kmeans.fit_predict(X)"
   ]
  },
  {
   "cell_type": "code",
   "execution_count": 67,
   "metadata": {},
   "outputs": [],
   "source": [
    "pred_single_data = kmeans.predict(sample_data_false_pca)"
   ]
  },
  {
   "cell_type": "code",
   "execution_count": 68,
   "metadata": {},
   "outputs": [
    {
     "data": {
      "text/plain": [
       "2"
      ]
     },
     "execution_count": 68,
     "metadata": {},
     "output_type": "execute_result"
    }
   ],
   "source": [
    "pred_single_data[0]"
   ]
  },
  {
   "cell_type": "markdown",
   "metadata": {},
   "source": [
    "#### Here, 2 means the above news belongs to cluster number 2"
   ]
  },
  {
   "cell_type": "markdown",
   "metadata": {},
   "source": [
    "### Using Agglomerative Clustering to make prediction on Multiple Input(three only)"
   ]
  },
  {
   "cell_type": "code",
   "execution_count": 69,
   "metadata": {},
   "outputs": [],
   "source": [
    "input_data_one = 'The Chicago Bears have had more starting quarterbacks in the last 10 years than the total number of tenured (UW) faculty fired during the last two decades.' \n",
    "input_data_two = 'Jim Dunnam has not lived in the district he represents for years now.'\n",
    "input_data_three = 'Health care reform legislation is likely to mandate free sex change surgeries.'"
   ]
  },
  {
   "cell_type": "markdown",
   "metadata": {},
   "source": [
    "#### NOTE: We can't take more than 3 inputs in the array because the number of clusters used to train the agglomerative clustering model is 3."
   ]
  },
  {
   "cell_type": "code",
   "execution_count": 70,
   "metadata": {},
   "outputs": [],
   "source": [
    "input_data_one_preproccessed = preprocess_text(input_data_one)\n",
    "input_data_two_preproccessed = preprocess_text(input_data_two)\n",
    "input_data_three_preproccessed = preprocess_text(input_data_three)"
   ]
  },
  {
   "cell_type": "code",
   "execution_count": 71,
   "metadata": {},
   "outputs": [],
   "source": [
    "input_data_final = [input_data_one_preproccessed, input_data_two_preproccessed, input_data_three_preproccessed]"
   ]
  },
  {
   "cell_type": "code",
   "execution_count": 72,
   "metadata": {},
   "outputs": [],
   "source": [
    "multiple_input_data_vectorized = vectorizer.transform(input_data_final).toarray()"
   ]
  },
  {
   "cell_type": "code",
   "execution_count": 73,
   "metadata": {},
   "outputs": [],
   "source": [
    "multiple_input_data_pca = pca.transform(multiple_input_data_vectorized)"
   ]
  },
  {
   "cell_type": "code",
   "execution_count": 74,
   "metadata": {},
   "outputs": [
    {
     "name": "stderr",
     "output_type": "stream",
     "text": [
      "C:\\Users\\Somenath\\AppData\\Roaming\\Python\\Python311\\site-packages\\sklearn\\cluster\\_agglomerative.py:983: FutureWarning: Attribute `affinity` was deprecated in version 1.2 and will be removed in 1.4. Use `metric` instead\n",
      "  warnings.warn(\n"
     ]
    }
   ],
   "source": [
    "pred_multiple_data = cluster_hierarcial.fit_predict(multiple_input_data_pca)"
   ]
  },
  {
   "cell_type": "code",
   "execution_count": 75,
   "metadata": {},
   "outputs": [
    {
     "data": {
      "text/plain": [
       "array([2, 1, 0], dtype=int64)"
      ]
     },
     "execution_count": 75,
     "metadata": {},
     "output_type": "execute_result"
    }
   ],
   "source": [
    "pred_multiple_data"
   ]
  },
  {
   "cell_type": "markdown",
   "metadata": {},
   "source": [
    "#### Here, [2, 1, 0] means the first news belongs to cluster number 2, the second news belongs to cluster number 1 and the third news belongs to cluster number 0."
   ]
  },
  {
   "cell_type": "markdown",
   "metadata": {},
   "source": [
    "## Generating pickle file of both the models, the pca and the vectorizer"
   ]
  },
  {
   "cell_type": "code",
   "execution_count": 76,
   "metadata": {},
   "outputs": [],
   "source": [
    "pickle.dump(kmeans, open('modelkmeans.pkl', 'wb'))\n",
    "pickle.dump(cluster_hierarcial, open('modelhierarchy.pkl', 'wb'))\n",
    "pickle.dump(vectorizer, open('vectorizer.pkl', 'wb'))\n",
    "pickle.dump(pca, open('pca.pkl', 'wb'))"
   ]
  }
 ],
 "metadata": {
  "colab": {
   "provenance": []
  },
  "kernelspec": {
   "display_name": "Python 3 (ipykernel)",
   "language": "python",
   "name": "python3"
  },
  "language_info": {
   "codemirror_mode": {
    "name": "ipython",
    "version": 3
   },
   "file_extension": ".py",
   "mimetype": "text/x-python",
   "name": "python",
   "nbconvert_exporter": "python",
   "pygments_lexer": "ipython3",
   "version": "3.11.2"
  }
 },
 "nbformat": 4,
 "nbformat_minor": 1
}
